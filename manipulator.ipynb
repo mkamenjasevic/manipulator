{
 "cells": [
  {
   "cell_type": "code",
   "execution_count": 63,
   "metadata": {},
   "outputs": [],
   "source": [
    "import numpy as np\n",
    "import sympy as sy\n",
    "import matplotlib.pyplot as plt\n",
    "from IPython.display import Image, display"
   ]
  },
  {
   "attachments": {},
   "cell_type": "markdown",
   "metadata": {},
   "source": [
    "# Dinamika manipulatora\n",
    "Analiziramo manipulator prikazan na slici. Generalizirane koordinate kojima opisujemo gibanje su: $q_1$, $q_2$, $q_3$ te njihove pripadne derivacije.\n",
    "\n"
   ]
  },
  {
   "attachments": {},
   "cell_type": "markdown",
   "metadata": {},
   "source": [
    "# Simbolički toolbox"
   ]
  },
  {
   "cell_type": "code",
   "execution_count": 191,
   "metadata": {},
   "outputs": [],
   "source": [
    "# simboličke varijable\n",
    "m2, m3 = sy.symbols(r\"m2 m3\")\n",
    "t, g = sy.symbols(r\"t g\")\n",
    "\n",
    "\n",
    "#pomaci\n",
    "q1, q2, q3 = sy.symbols(r\"q_1, q_2, q_3\", cls=sy.Function)\n",
    "q1 = q1(t)\n",
    "q2 = q2(t)\n",
    "q3 = q3(t)\n",
    "\n",
    "#brzine\n",
    "v1 = sy.diff(q1,t)\n",
    "v2 = sy.diff(q2,t)\n",
    "v3 = sy.diff(q3,t)\n",
    "\n",
    "#akceleracije\n",
    "a1 = sy.diff(v1,t)\n",
    "a2 = sy.diff(v2,t)\n",
    "a3 = sy.diff(v3,t)\n",
    "\n",
    "#vanjske sile\n",
    "f1, f2, f3 = sy.symbols(r\"f_1, f_2, f_3\", cls=sy.Function)\n",
    "f1=f1(t)\n",
    "f2=f2(t)\n",
    "f3=f3(t)\n"
   ]
  },
  {
   "attachments": {},
   "cell_type": "markdown",
   "metadata": {},
   "source": [
    "Sada možemo ispisati simboličke izraze za brzine i akceleracije te uočavamo kako su zadani pomoću poopćenih pomaka što nam je bio i cilj."
   ]
  },
  {
   "cell_type": "code",
   "execution_count": 11,
   "metadata": {},
   "outputs": [
    {
     "data": {
      "text/latex": [
       "$\\displaystyle \\operatorname{q_{1}}{\\left(t \\right)}$"
      ],
      "text/plain": [
       "q_1(t)"
      ]
     },
     "execution_count": 11,
     "metadata": {},
     "output_type": "execute_result"
    }
   ],
   "source": [
    "q1"
   ]
  },
  {
   "cell_type": "code",
   "execution_count": 14,
   "metadata": {},
   "outputs": [
    {
     "data": {
      "text/latex": [
       "$\\displaystyle \\frac{d}{d t} \\operatorname{q_{1}}{\\left(t \\right)}$"
      ],
      "text/plain": [
       "Derivative(q_1(t), t)"
      ]
     },
     "execution_count": 14,
     "metadata": {},
     "output_type": "execute_result"
    }
   ],
   "source": [
    "v1"
   ]
  },
  {
   "cell_type": "code",
   "execution_count": 16,
   "metadata": {},
   "outputs": [
    {
     "data": {
      "text/latex": [
       "$\\displaystyle \\frac{d^{2}}{d t^{2}} \\operatorname{q_{1}}{\\left(t \\right)}$"
      ],
      "text/plain": [
       "Derivative(q_1(t), (t, 2))"
      ]
     },
     "execution_count": 16,
     "metadata": {},
     "output_type": "execute_result"
    }
   ],
   "source": [
    "a1"
   ]
  },
  {
   "attachments": {},
   "cell_type": "markdown",
   "metadata": {},
   "source": [
    "# Lagrangeova funkcija\n",
    "Potrebno je raspisati kinetičke i potenicjalne energije pojedinih članova sustava prema sljedećim jednadžbama.\n",
    "Kinetička energija za translaciju:\n",
    "                                    $$E_k = \\frac{mv^{2}}{2}$$\n",
    "\n",
    "Bitno je naglasiti da u ovom primjeru nemamo kinetičku energiju rotacije.\n",
    "\n",
    "Potencijalna energija za translaciju glasi:\n",
    "$$E_p = mgh$$"
   ]
  },
  {
   "cell_type": "code",
   "execution_count": 192,
   "metadata": {},
   "outputs": [],
   "source": [
    "#kinetička energija\n",
    "ek = 0.5 * (((m2*v2**2)) + (m2*v1**2) + (m3*v1**2) + (m3*v2**2) + (m3*v3**2))\n",
    "\n",
    "#potencijalna energija\n",
    "ep = m2*g*q1 + m3*g*q1\n",
    "\n",
    "#Lagrange\n",
    "lgr = ek -ep"
   ]
  },
  {
   "cell_type": "code",
   "execution_count": 20,
   "metadata": {},
   "outputs": [
    {
     "data": {
      "text/latex": [
       "$\\displaystyle 0.5 m_{2} \\left(\\frac{d}{d t} \\operatorname{q_{1}}{\\left(t \\right)}\\right)^{2} + 0.5 m_{2} \\left(\\frac{d}{d t} \\operatorname{q_{2}}{\\left(t \\right)}\\right)^{2} + 0.5 m_{3} \\left(\\frac{d}{d t} \\operatorname{q_{1}}{\\left(t \\right)}\\right)^{2} + 0.5 m_{3} \\left(\\frac{d}{d t} \\operatorname{q_{2}}{\\left(t \\right)}\\right)^{2} + 0.5 m_{3} \\left(\\frac{d}{d t} \\operatorname{q_{3}}{\\left(t \\right)}\\right)^{2}$"
      ],
      "text/plain": [
       "0.5*m2*Derivative(q_1(t), t)**2 + 0.5*m2*Derivative(q_2(t), t)**2 + 0.5*m3*Derivative(q_1(t), t)**2 + 0.5*m3*Derivative(q_2(t), t)**2 + 0.5*m3*Derivative(q_3(t), t)**2"
      ]
     },
     "execution_count": 20,
     "metadata": {},
     "output_type": "execute_result"
    }
   ],
   "source": [
    "ek"
   ]
  },
  {
   "cell_type": "code",
   "execution_count": 21,
   "metadata": {},
   "outputs": [
    {
     "data": {
      "text/latex": [
       "$\\displaystyle g m_{2} \\operatorname{q_{1}}{\\left(t \\right)} + g m_{3} \\operatorname{q_{1}}{\\left(t \\right)}$"
      ],
      "text/plain": [
       "g*m2*q_1(t) + g*m3*q_1(t)"
      ]
     },
     "execution_count": 21,
     "metadata": {},
     "output_type": "execute_result"
    }
   ],
   "source": [
    "ep"
   ]
  },
  {
   "cell_type": "code",
   "execution_count": 22,
   "metadata": {},
   "outputs": [
    {
     "data": {
      "text/latex": [
       "$\\displaystyle - g m_{2} \\operatorname{q_{1}}{\\left(t \\right)} - g m_{3} \\operatorname{q_{1}}{\\left(t \\right)} + 0.5 m_{2} \\left(\\frac{d}{d t} \\operatorname{q_{1}}{\\left(t \\right)}\\right)^{2} + 0.5 m_{2} \\left(\\frac{d}{d t} \\operatorname{q_{2}}{\\left(t \\right)}\\right)^{2} + 0.5 m_{3} \\left(\\frac{d}{d t} \\operatorname{q_{1}}{\\left(t \\right)}\\right)^{2} + 0.5 m_{3} \\left(\\frac{d}{d t} \\operatorname{q_{2}}{\\left(t \\right)}\\right)^{2} + 0.5 m_{3} \\left(\\frac{d}{d t} \\operatorname{q_{3}}{\\left(t \\right)}\\right)^{2}$"
      ],
      "text/plain": [
       "-g*m2*q_1(t) - g*m3*q_1(t) + 0.5*m2*Derivative(q_1(t), t)**2 + 0.5*m2*Derivative(q_2(t), t)**2 + 0.5*m3*Derivative(q_1(t), t)**2 + 0.5*m3*Derivative(q_2(t), t)**2 + 0.5*m3*Derivative(q_3(t), t)**2"
      ]
     },
     "execution_count": 22,
     "metadata": {},
     "output_type": "execute_result"
    }
   ],
   "source": [
    "lgr"
   ]
  },
  {
   "attachments": {},
   "cell_type": "markdown",
   "metadata": {},
   "source": [
    "# Jednadžbe gibanja\n",
    "Iz Lagrangeove funkcije dobivamo tri jednadžbe gibanja, jer sustav ima tri stupnja slobode. Jednadžbe gibanja simbolički su zapisane kao:\n",
    "$$ \\frac{\\partial \\mathcal{L}}{\\partial\\phi_1}-\\frac{d\\partial \\mathcal{L}}{dt\\partial \\dot{\\phi_1}}  = f_{\\phi_1}(t) \\qquad (1)$$\n",
    "\n",
    "$$\\frac{\\partial \\mathcal{L}}{\\partial\\phi_2}-\\frac{d\\partial \\mathcal{L}}{dt\\partial \\dot{\\phi_2}} = f_{\\phi_2}(t) \\qquad (2)$$\n",
    "\n",
    "$$\\frac{\\partial \\mathcal{L}}{\\partial q}-\\frac{d\\partial \\mathcal{L}}{dt\\partial \\dot{q}}  = f_q(t) \\quad\\qquad (3) $$\n",
    "\n",
    "Simboli  $f_q$, $f_{\\phi_1}$ i $f_{\\phi_2}$ označavaju generalizirane sile i momente."
   ]
  },
  {
   "cell_type": "code",
   "execution_count": 197,
   "metadata": {},
   "outputs": [
    {
     "data": {
      "text/latex": [
       "$\\displaystyle 1.0 g m_{2} + 1.0 g m_{3} + 1.0 m_{2} \\frac{d^{2}}{d t^{2}} \\operatorname{q_{1}}{\\left(t \\right)} + 1.0 m_{3} \\frac{d^{2}}{d t^{2}} \\operatorname{q_{1}}{\\left(t \\right)} - 1.0 \\operatorname{f_{1}}{\\left(t \\right)}$"
      ],
      "text/plain": [
       "1.0*g*m2 + 1.0*g*m3 + 1.0*m2*Derivative(q_1(t), (t, 2)) + 1.0*m3*Derivative(q_1(t), (t, 2)) - 1.0*f_1(t)"
      ]
     },
     "execution_count": 197,
     "metadata": {},
     "output_type": "execute_result"
    }
   ],
   "source": [
    "jed1 = (-sy.diff (lgr, q1) + sy.diff(sy.diff(lgr, v1), t) - f1 ).simplify()\n",
    "jed2 = (-sy.diff (lgr, q2) + sy.diff(sy.diff(lgr, v2), t) - f2 ).simplify()\n",
    "jed3 = (-sy.diff (lgr, q3) + sy.diff(sy.diff(lgr, v3), t) - f3 )\n",
    "jed1"
   ]
  },
  {
   "attachments": {},
   "cell_type": "markdown",
   "metadata": {},
   "source": [
    "# Inverzna kinematika\n",
    "Iz jednadžbi gibanja možemo pronaći vremenski ovisne vanjske sile $f_1$, $f_2$ i $f_3$ koje će poslužiti za rješavanje problema inverzne kinematike gdje zadajemo trajektoriju kojom bi se manipulator gibao te iz nje dobivamo moment i sile koje su potrebni u aktuatorima da manipulator izvrši zadano gibanje."
   ]
  },
  {
   "cell_type": "code",
   "execution_count": 201,
   "metadata": {},
   "outputs": [
    {
     "data": {
      "text/latex": [
       "$\\displaystyle 1.0 g m_{2} + 1.0 g m_{3} + 1.0 m_{2} \\frac{d^{2}}{d t^{2}} \\operatorname{q_{1}}{\\left(t \\right)} + 1.0 m_{3} \\frac{d^{2}}{d t^{2}} \\operatorname{q_{1}}{\\left(t \\right)}$"
      ],
      "text/plain": [
       "1.0*g*m2 + 1.0*g*m3 + 1.0*m2*Derivative(q_1(t), (t, 2)) + 1.0*m3*Derivative(q_1(t), (t, 2))"
      ]
     },
     "execution_count": 201,
     "metadata": {},
     "output_type": "execute_result"
    }
   ],
   "source": [
    "sile = sy.solve([jed1, jed2, jed3], (f1, f2, f3), simplify=True, rational=False)\n",
    "sile[f1]"
   ]
  },
  {
   "attachments": {},
   "cell_type": "markdown",
   "metadata": {},
   "source": [
    "# Numerički oblik jednadžbi \n",
    "Naredbom sy.lamdify pretvaramo simbolične jednadžbe u numeričke."
   ]
  },
  {
   "cell_type": "code",
   "execution_count": 202,
   "metadata": {},
   "outputs": [],
   "source": [
    "f1_num = sy.lambdify ((t, g, v1, v2, v3, a1, a2, a3, q1, q2, q3, m2, m3), sile[f1])\n",
    "f2_num = sy.lambdify ((t, g, v1, v2, v3, a1, a2, a3, q1, q2, q3, m2, m3), sile[f2])\n",
    "f3_num = sy.lambdify ((t, g, v1, v2, v3, a1, a2, a3, q1, q2, q3, m2, m3), sile[f3])\n",
    "# Zadane konstante sustava\n",
    "g=9.81\n",
    "m2=1\n",
    "m3=1\n",
    "\n",
    "\n"
   ]
  },
  {
   "attachments": {},
   "cell_type": "markdown",
   "metadata": {},
   "source": [
    "# Trajektorija\n",
    "Za problem inverzne kinematike zadana je trajektorija prihvatnika manipulatora prikazana u 2D i 3D. Vrijeme trajanja simulacije je 10 sekundi. "
   ]
  },
  {
   "cell_type": "code",
   "execution_count": 203,
   "metadata": {},
   "outputs": [
    {
     "data": {
      "text/plain": [
       "[<matplotlib.lines.Line2D at 0x20b84184eb0>]"
      ]
     },
     "execution_count": 203,
     "metadata": {},
     "output_type": "execute_result"
    },
    {
     "data": {
      "image/png": "[encoded data removed]",
      "text/plain": [
       "<Figure size 500x500 with 1 Axes>"
      ]
     },
     "metadata": {},
     "output_type": "display_data"
    }
   ],
   "source": [
    "\n",
    "t = np.arange(0,10,1)\n",
    "L = 1\n",
    "\n",
    "q1 = (L/10)*t\n",
    "v1 = L/10\n",
    "a1 = 0\n",
    "\n",
    "q2 = (L/10)*t\n",
    "v2 = L/10\n",
    "a2 = 0\n",
    "\n",
    "q3 = (L/10)*t\n",
    "v3 = L/10\n",
    "a3 = 0\n",
    "\n",
    "r = np.array([q2*q1,q3*q3])\n",
    "\n",
    "fig,ax = plt.subplots(1,1,figsize=(5,5))\n",
    "\n",
    "ax.plot(r[0,:],r[1,:])"
   ]
  },
  {
   "cell_type": "code",
   "execution_count": 204,
   "metadata": {},
   "outputs": [
    {
     "data": {
      "text/plain": [
       "[<mpl_toolkits.mplot3d.art3d.Line3D at 0x20b841e30a0>]"
      ]
     },
     "execution_count": 204,
     "metadata": {},
     "output_type": "execute_result"
    },
    {
     "data": {
      "image/png": "[encoded data removed]",
      "text/plain": [
       "<Figure size 640x480 with 1 Axes>"
      ]
     },
     "metadata": {},
     "output_type": "display_data"
    }
   ],
   "source": [
    "fig,ax = plt.subplots(subplot_kw = {\"projection\": \"3d\"})\n",
    "ax.plot(r[0,:],r[1,:], q2)"
   ]
  },
  {
   "attachments": {},
   "cell_type": "markdown",
   "metadata": {},
   "source": [
    "# Moment i sile u aktuatorima\n",
    "Izračun momenta i sila u aktuatorima napravljen je numeričkim putem te grafovi prikazuju raspodijelu momenta i sila u aktuatorima u ovisnosti o vremenu."
   ]
  },
  {
   "cell_type": "code",
   "execution_count": 205,
   "metadata": {},
   "outputs": [
    {
     "name": "stdout",
     "output_type": "stream",
     "text": [
      "9\n"
     ]
    }
   ],
   "source": [
    "F1=f1_num(t, g, v1, v2, v3, a1, a2, a3, q1, q2, q3, m2, m3)\n",
    "result1 = str(F1)\n",
    "print(result1[1])"
   ]
  },
  {
   "cell_type": "code",
   "execution_count": 156,
   "metadata": {},
   "outputs": [
    {
     "name": "stdout",
     "output_type": "stream",
     "text": [
      "0\n"
     ]
    }
   ],
   "source": [
    "F2=f2_num(t, g, v1, v2, v3, a1, a2, a3, q1, q2, q3, m2, m3)\n",
    "result2 = str(F2)\n",
    "print(result2[3])\n"
   ]
  },
  {
   "cell_type": "code",
   "execution_count": 123,
   "metadata": {},
   "outputs": [
    {
     "data": {
      "text/plain": [
       "-0.0"
      ]
     },
     "execution_count": 123,
     "metadata": {},
     "output_type": "execute_result"
    }
   ],
   "source": [
    "F3=f3_num(t, g, v1, v2, v3, a1, a2, a3, q1, q2, q3, m2, m3)\n",
    "F3"
   ]
  },
  {
   "cell_type": "code",
   "execution_count": 206,
   "metadata": {},
   "outputs": [
    {
     "ename": "ValueError",
     "evalue": "x and y must have same first dimension, but have shapes (10,) and (1,)",
     "output_type": "error",
     "traceback": [
      "\u001b[1;31m---------------------------------------------------------------------------\u001b[0m",
      "\u001b[1;31mValueError\u001b[0m                                Traceback (most recent call last)",
      "Cell \u001b[1;32mIn[206], line 3\u001b[0m\n\u001b[0;32m      1\u001b[0m fig,ax \u001b[39m=\u001b[39m plt\u001b[39m.\u001b[39msubplots(\u001b[39m3\u001b[39m,\u001b[39m1\u001b[39m,figsize\u001b[39m=\u001b[39m(\u001b[39m0\u001b[39m,\u001b[39m1\u001b[39m))\n\u001b[1;32m----> 3\u001b[0m ax[\u001b[39m0\u001b[39;49m]\u001b[39m.\u001b[39;49mplot(t,F1)\n\u001b[0;32m      4\u001b[0m ax[\u001b[39m0\u001b[39m]\u001b[39m.\u001b[39mset_title(\u001b[39mr\u001b[39m\u001b[39m\"\u001b[39m\u001b[39mMoment 1. aktuatora\u001b[39m\u001b[39m\"\u001b[39m)\n\u001b[0;32m      6\u001b[0m ax[\u001b[39m1\u001b[39m]\u001b[39m.\u001b[39mplot(t,F2)\n",
      "File \u001b[1;32mc:\\Users\\Matteo98\\.idlerc\\Python\\lib\\site-packages\\matplotlib\\axes\\_axes.py:1632\u001b[0m, in \u001b[0;36mAxes.plot\u001b[1;34m(self, scalex, scaley, data, *args, **kwargs)\u001b[0m\n\u001b[0;32m   1390\u001b[0m \u001b[39m\u001b[39m\u001b[39m\"\"\"\u001b[39;00m\n\u001b[0;32m   1391\u001b[0m \u001b[39mPlot y versus x as lines and/or markers.\u001b[39;00m\n\u001b[0;32m   1392\u001b[0m \n\u001b[1;32m   (...)\u001b[0m\n\u001b[0;32m   1629\u001b[0m \u001b[39m(``'green'``) or hex strings (``'#008000'``).\u001b[39;00m\n\u001b[0;32m   1630\u001b[0m \u001b[39m\"\"\"\u001b[39;00m\n\u001b[0;32m   1631\u001b[0m kwargs \u001b[39m=\u001b[39m cbook\u001b[39m.\u001b[39mnormalize_kwargs(kwargs, mlines\u001b[39m.\u001b[39mLine2D)\n\u001b[1;32m-> 1632\u001b[0m lines \u001b[39m=\u001b[39m [\u001b[39m*\u001b[39m\u001b[39mself\u001b[39m\u001b[39m.\u001b[39m_get_lines(\u001b[39m*\u001b[39margs, data\u001b[39m=\u001b[39mdata, \u001b[39m*\u001b[39m\u001b[39m*\u001b[39mkwargs)]\n\u001b[0;32m   1633\u001b[0m \u001b[39mfor\u001b[39;00m line \u001b[39min\u001b[39;00m lines:\n\u001b[0;32m   1634\u001b[0m     \u001b[39mself\u001b[39m\u001b[39m.\u001b[39madd_line(line)\n",
      "File \u001b[1;32mc:\\Users\\Matteo98\\.idlerc\\Python\\lib\\site-packages\\matplotlib\\axes\\_base.py:312\u001b[0m, in \u001b[0;36m_process_plot_var_args.__call__\u001b[1;34m(self, data, *args, **kwargs)\u001b[0m\n\u001b[0;32m    310\u001b[0m     this \u001b[39m+\u001b[39m\u001b[39m=\u001b[39m args[\u001b[39m0\u001b[39m],\n\u001b[0;32m    311\u001b[0m     args \u001b[39m=\u001b[39m args[\u001b[39m1\u001b[39m:]\n\u001b[1;32m--> 312\u001b[0m \u001b[39myield from\u001b[39;00m \u001b[39mself\u001b[39;49m\u001b[39m.\u001b[39;49m_plot_args(this, kwargs)\n",
      "File \u001b[1;32mc:\\Users\\Matteo98\\.idlerc\\Python\\lib\\site-packages\\matplotlib\\axes\\_base.py:498\u001b[0m, in \u001b[0;36m_process_plot_var_args._plot_args\u001b[1;34m(self, tup, kwargs, return_kwargs)\u001b[0m\n\u001b[0;32m    495\u001b[0m     \u001b[39mself\u001b[39m\u001b[39m.\u001b[39maxes\u001b[39m.\u001b[39myaxis\u001b[39m.\u001b[39mupdate_units(y)\n\u001b[0;32m    497\u001b[0m \u001b[39mif\u001b[39;00m x\u001b[39m.\u001b[39mshape[\u001b[39m0\u001b[39m] \u001b[39m!=\u001b[39m y\u001b[39m.\u001b[39mshape[\u001b[39m0\u001b[39m]:\n\u001b[1;32m--> 498\u001b[0m     \u001b[39mraise\u001b[39;00m \u001b[39mValueError\u001b[39;00m(\u001b[39mf\u001b[39m\u001b[39m\"\u001b[39m\u001b[39mx and y must have same first dimension, but \u001b[39m\u001b[39m\"\u001b[39m\n\u001b[0;32m    499\u001b[0m                      \u001b[39mf\u001b[39m\u001b[39m\"\u001b[39m\u001b[39mhave shapes \u001b[39m\u001b[39m{\u001b[39;00mx\u001b[39m.\u001b[39mshape\u001b[39m}\u001b[39;00m\u001b[39m and \u001b[39m\u001b[39m{\u001b[39;00my\u001b[39m.\u001b[39mshape\u001b[39m}\u001b[39;00m\u001b[39m\"\u001b[39m)\n\u001b[0;32m    500\u001b[0m \u001b[39mif\u001b[39;00m x\u001b[39m.\u001b[39mndim \u001b[39m>\u001b[39m \u001b[39m2\u001b[39m \u001b[39mor\u001b[39;00m y\u001b[39m.\u001b[39mndim \u001b[39m>\u001b[39m \u001b[39m2\u001b[39m:\n\u001b[0;32m    501\u001b[0m     \u001b[39mraise\u001b[39;00m \u001b[39mValueError\u001b[39;00m(\u001b[39mf\u001b[39m\u001b[39m\"\u001b[39m\u001b[39mx and y can be no greater than 2D, but have \u001b[39m\u001b[39m\"\u001b[39m\n\u001b[0;32m    502\u001b[0m                      \u001b[39mf\u001b[39m\u001b[39m\"\u001b[39m\u001b[39mshapes \u001b[39m\u001b[39m{\u001b[39;00mx\u001b[39m.\u001b[39mshape\u001b[39m}\u001b[39;00m\u001b[39m and \u001b[39m\u001b[39m{\u001b[39;00my\u001b[39m.\u001b[39mshape\u001b[39m}\u001b[39;00m\u001b[39m\"\u001b[39m)\n",
      "\u001b[1;31mValueError\u001b[0m: x and y must have same first dimension, but have shapes (10,) and (1,)"
     ]
    },
    {
     "name": "stderr",
     "output_type": "stream",
     "text": [
      "c:\\Users\\Matteo98\\.idlerc\\Python\\lib\\site-packages\\matplotlib\\tight_bbox.py:71: RuntimeWarning: divide by zero encountered in double_scalars\n",
      "  fig.patch.set_bounds(x0 / w1, y0 / h1,\n",
      "c:\\Users\\Matteo98\\.idlerc\\Python\\lib\\site-packages\\matplotlib\\tight_bbox.py:72: RuntimeWarning: divide by zero encountered in double_scalars\n",
      "  fig.bbox.width / w1, fig.bbox.height / h1)\n",
      "c:\\Users\\Matteo98\\.idlerc\\Python\\lib\\site-packages\\matplotlib\\patches.py:749: RuntimeWarning: invalid value encountered in double_scalars\n",
      "  x1 = self.convert_xunits(self._x0 + self._width)\n",
      "c:\\Users\\Matteo98\\.idlerc\\Python\\lib\\site-packages\\matplotlib\\transforms.py:2052: RuntimeWarning: invalid value encountered in double_scalars\n",
      "  self._mtx[0, 2] += tx\n"
     ]
    },
    {
     "data": {
      "image/png": "[encoded data removed]",
      "text/plain": [
       "<Figure size 0x100 with 3 Axes>"
      ]
     },
     "metadata": {},
     "output_type": "display_data"
    }
   ],
   "source": [
    "fig,ax = plt.subplots(3,1,figsize=(0,1))\n",
    "\n",
    "ax[0].plot(t,F1)\n",
    "ax[0].set_title(r\"Moment 1. aktuatora\")\n",
    "\n",
    "ax[1].plot(t,F2)\n",
    "ax[1].set_title(r\"Sila 2. aktuatora\")\n",
    "\n",
    "ax[2].plot(t,F3)\n",
    "ax[2].set_title(r\"Sila 3. aktuatora\")"
   ]
  }
 ],
 "metadata": {
  "kernelspec": {
   "display_name": "Python 3",
   "language": "python",
   "name": "python3"
  },
  "language_info": {
   "codemirror_mode": {
    "name": "ipython",
    "version": 3
   },
   "file_extension": ".py",
   "mimetype": "text/x-python",
   "name": "python",
   "nbconvert_exporter": "python",
   "pygments_lexer": "ipython3",
   "version": "3.10.1"
  },
  "orig_nbformat": 4,
  "vscode": {
   "interpreter": {
    "hash": "f02e718bf3d4618944f24c5587c79c88b9d460b03a85a3ed129010e954e32828"
   }
  }
 },
 "nbformat": 4,
 "nbformat_minor": 2
}
